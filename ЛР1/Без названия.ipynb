{
 "cells": [
  {
   "cell_type": "code",
   "execution_count": 6,
   "id": "9f99e12c",
   "metadata": {},
   "outputs": [],
   "source": [
    "import numpy as numpy\n",
    "import pandas as pandas"
   ]
  },
  {
   "cell_type": "markdown",
   "id": "f1604351",
   "metadata": {},
   "source": [
    "## Выборка"
   ]
  },
  {
   "cell_type": "code",
   "execution_count": 7,
   "id": "c1652060",
   "metadata": {},
   "outputs": [],
   "source": [
    "data = {\n",
    "    'Песок': numpy.random.normal(69, 7, 12),\n",
    "    'Цемент': numpy.random.normal(123, 17, 12),\n",
    "    'Щебенка': numpy.random.normal(77, 7, 12),\n",
    "    'Земля': numpy.random.normal(50, 5, 12),\n",
    "    'Вода': numpy.random.normal(100, 15, 12),\n",
    "    'Гравий': numpy.random.normal(95, 9, 12),\n",
    "    'Кирпичи': numpy.random.normal(33, 4, 12),\n",
    "    'Газоблоки': numpy.random.normal(111, 21, 12),\n",
    "    'Доски': numpy.random.normal(112, 22, 12),\n",
    "    'Сваи': numpy.random.normal(70, 15, 12),\n",
    "}"
   ]
  },
  {
   "cell_type": "code",
   "execution_count": 8,
   "id": "ce5c2e45",
   "metadata": {
    "scrolled": false
   },
   "outputs": [
    {
     "data": {
      "text/html": [
       "<div>\n",
       "<style scoped>\n",
       "    .dataframe tbody tr th:only-of-type {\n",
       "        vertical-align: middle;\n",
       "    }\n",
       "\n",
       "    .dataframe tbody tr th {\n",
       "        vertical-align: top;\n",
       "    }\n",
       "\n",
       "    .dataframe thead th {\n",
       "        text-align: right;\n",
       "    }\n",
       "</style>\n",
       "<table border=\"1\" class=\"dataframe\">\n",
       "  <thead>\n",
       "    <tr style=\"text-align: right;\">\n",
       "      <th></th>\n",
       "      <th>Песок</th>\n",
       "      <th>Цемент</th>\n",
       "      <th>Щебенка</th>\n",
       "      <th>Земля</th>\n",
       "      <th>Вода</th>\n",
       "      <th>Гравий</th>\n",
       "      <th>Кирпичи</th>\n",
       "      <th>Газоблоки</th>\n",
       "      <th>Доски</th>\n",
       "      <th>Сваи</th>\n",
       "    </tr>\n",
       "  </thead>\n",
       "  <tbody>\n",
       "    <tr>\n",
       "      <th>0</th>\n",
       "      <td>66.936179</td>\n",
       "      <td>138.396505</td>\n",
       "      <td>84.951897</td>\n",
       "      <td>48.866108</td>\n",
       "      <td>76.553348</td>\n",
       "      <td>89.111231</td>\n",
       "      <td>35.618514</td>\n",
       "      <td>140.666553</td>\n",
       "      <td>109.810635</td>\n",
       "      <td>65.258720</td>\n",
       "    </tr>\n",
       "    <tr>\n",
       "      <th>1</th>\n",
       "      <td>64.104674</td>\n",
       "      <td>97.950796</td>\n",
       "      <td>76.461902</td>\n",
       "      <td>48.877165</td>\n",
       "      <td>105.183874</td>\n",
       "      <td>97.269228</td>\n",
       "      <td>35.689294</td>\n",
       "      <td>86.298616</td>\n",
       "      <td>131.687999</td>\n",
       "      <td>86.096961</td>\n",
       "    </tr>\n",
       "    <tr>\n",
       "      <th>2</th>\n",
       "      <td>78.106334</td>\n",
       "      <td>105.822337</td>\n",
       "      <td>81.009649</td>\n",
       "      <td>43.984949</td>\n",
       "      <td>98.804944</td>\n",
       "      <td>102.572908</td>\n",
       "      <td>30.321690</td>\n",
       "      <td>84.634785</td>\n",
       "      <td>93.931983</td>\n",
       "      <td>66.418915</td>\n",
       "    </tr>\n",
       "    <tr>\n",
       "      <th>3</th>\n",
       "      <td>65.413184</td>\n",
       "      <td>96.422443</td>\n",
       "      <td>74.728767</td>\n",
       "      <td>47.566265</td>\n",
       "      <td>115.296575</td>\n",
       "      <td>91.170127</td>\n",
       "      <td>32.550738</td>\n",
       "      <td>130.879373</td>\n",
       "      <td>131.799536</td>\n",
       "      <td>75.233501</td>\n",
       "    </tr>\n",
       "    <tr>\n",
       "      <th>4</th>\n",
       "      <td>66.520862</td>\n",
       "      <td>114.590718</td>\n",
       "      <td>64.334237</td>\n",
       "      <td>50.126771</td>\n",
       "      <td>115.649375</td>\n",
       "      <td>88.942360</td>\n",
       "      <td>35.410876</td>\n",
       "      <td>100.136669</td>\n",
       "      <td>132.852552</td>\n",
       "      <td>60.526254</td>\n",
       "    </tr>\n",
       "    <tr>\n",
       "      <th>5</th>\n",
       "      <td>71.025691</td>\n",
       "      <td>115.870548</td>\n",
       "      <td>76.255566</td>\n",
       "      <td>46.850732</td>\n",
       "      <td>108.428978</td>\n",
       "      <td>86.094479</td>\n",
       "      <td>27.383789</td>\n",
       "      <td>116.498653</td>\n",
       "      <td>72.366492</td>\n",
       "      <td>71.025585</td>\n",
       "    </tr>\n",
       "    <tr>\n",
       "      <th>6</th>\n",
       "      <td>72.126488</td>\n",
       "      <td>116.575834</td>\n",
       "      <td>81.872946</td>\n",
       "      <td>52.967350</td>\n",
       "      <td>82.002087</td>\n",
       "      <td>113.260167</td>\n",
       "      <td>31.870214</td>\n",
       "      <td>146.555585</td>\n",
       "      <td>101.949591</td>\n",
       "      <td>53.264113</td>\n",
       "    </tr>\n",
       "    <tr>\n",
       "      <th>7</th>\n",
       "      <td>67.824158</td>\n",
       "      <td>112.770473</td>\n",
       "      <td>69.423235</td>\n",
       "      <td>46.899027</td>\n",
       "      <td>105.934706</td>\n",
       "      <td>91.943520</td>\n",
       "      <td>28.491083</td>\n",
       "      <td>126.563059</td>\n",
       "      <td>117.973326</td>\n",
       "      <td>61.417385</td>\n",
       "    </tr>\n",
       "    <tr>\n",
       "      <th>8</th>\n",
       "      <td>71.137417</td>\n",
       "      <td>131.173936</td>\n",
       "      <td>69.992439</td>\n",
       "      <td>48.166947</td>\n",
       "      <td>99.912686</td>\n",
       "      <td>105.695557</td>\n",
       "      <td>32.467500</td>\n",
       "      <td>70.692090</td>\n",
       "      <td>118.905548</td>\n",
       "      <td>76.485438</td>\n",
       "    </tr>\n",
       "    <tr>\n",
       "      <th>9</th>\n",
       "      <td>71.386560</td>\n",
       "      <td>107.299339</td>\n",
       "      <td>76.251013</td>\n",
       "      <td>50.372364</td>\n",
       "      <td>100.919644</td>\n",
       "      <td>91.089781</td>\n",
       "      <td>34.622841</td>\n",
       "      <td>95.817793</td>\n",
       "      <td>79.949969</td>\n",
       "      <td>81.498311</td>\n",
       "    </tr>\n",
       "    <tr>\n",
       "      <th>10</th>\n",
       "      <td>69.386293</td>\n",
       "      <td>124.755149</td>\n",
       "      <td>78.296704</td>\n",
       "      <td>45.143107</td>\n",
       "      <td>95.601327</td>\n",
       "      <td>119.437266</td>\n",
       "      <td>31.973240</td>\n",
       "      <td>83.004868</td>\n",
       "      <td>64.703072</td>\n",
       "      <td>81.754442</td>\n",
       "    </tr>\n",
       "    <tr>\n",
       "      <th>11</th>\n",
       "      <td>69.602641</td>\n",
       "      <td>146.433599</td>\n",
       "      <td>75.978314</td>\n",
       "      <td>47.848171</td>\n",
       "      <td>101.524453</td>\n",
       "      <td>100.832029</td>\n",
       "      <td>36.564174</td>\n",
       "      <td>120.567078</td>\n",
       "      <td>124.707370</td>\n",
       "      <td>90.875957</td>\n",
       "    </tr>\n",
       "  </tbody>\n",
       "</table>\n",
       "</div>"
      ],
      "text/plain": [
       "        Песок      Цемент    Щебенка      Земля        Вода      Гравий  \\\n",
       "0   66.936179  138.396505  84.951897  48.866108   76.553348   89.111231   \n",
       "1   64.104674   97.950796  76.461902  48.877165  105.183874   97.269228   \n",
       "2   78.106334  105.822337  81.009649  43.984949   98.804944  102.572908   \n",
       "3   65.413184   96.422443  74.728767  47.566265  115.296575   91.170127   \n",
       "4   66.520862  114.590718  64.334237  50.126771  115.649375   88.942360   \n",
       "5   71.025691  115.870548  76.255566  46.850732  108.428978   86.094479   \n",
       "6   72.126488  116.575834  81.872946  52.967350   82.002087  113.260167   \n",
       "7   67.824158  112.770473  69.423235  46.899027  105.934706   91.943520   \n",
       "8   71.137417  131.173936  69.992439  48.166947   99.912686  105.695557   \n",
       "9   71.386560  107.299339  76.251013  50.372364  100.919644   91.089781   \n",
       "10  69.386293  124.755149  78.296704  45.143107   95.601327  119.437266   \n",
       "11  69.602641  146.433599  75.978314  47.848171  101.524453  100.832029   \n",
       "\n",
       "      Кирпичи   Газоблоки       Доски       Сваи  \n",
       "0   35.618514  140.666553  109.810635  65.258720  \n",
       "1   35.689294   86.298616  131.687999  86.096961  \n",
       "2   30.321690   84.634785   93.931983  66.418915  \n",
       "3   32.550738  130.879373  131.799536  75.233501  \n",
       "4   35.410876  100.136669  132.852552  60.526254  \n",
       "5   27.383789  116.498653   72.366492  71.025585  \n",
       "6   31.870214  146.555585  101.949591  53.264113  \n",
       "7   28.491083  126.563059  117.973326  61.417385  \n",
       "8   32.467500   70.692090  118.905548  76.485438  \n",
       "9   34.622841   95.817793   79.949969  81.498311  \n",
       "10  31.973240   83.004868   64.703072  81.754442  \n",
       "11  36.564174  120.567078  124.707370  90.875957  "
      ]
     },
     "execution_count": 8,
     "metadata": {},
     "output_type": "execute_result"
    }
   ],
   "source": [
    "table = pandas.DataFrame(data)\n",
    "table"
   ]
  },
  {
   "cell_type": "markdown",
   "id": "b087ca7e",
   "metadata": {},
   "source": [
    "## Получение p0"
   ]
  },
  {
   "cell_type": "code",
   "execution_count": 9,
   "id": "98b8f555",
   "metadata": {},
   "outputs": [
    {
     "data": {
      "text/plain": [
       "Песок         69.464207\n",
       "Цемент       117.338473\n",
       "Щебенка       75.796389\n",
       "Земля         48.139080\n",
       "Вода         100.484333\n",
       "Гравий        98.118221\n",
       "Кирпичи       32.746996\n",
       "Газоблоки    108.526260\n",
       "Доски        106.719839\n",
       "Сваи          72.487965\n",
       "dtype: float64"
      ]
     },
     "execution_count": 9,
     "metadata": {},
     "output_type": "execute_result"
    }
   ],
   "source": [
    "p0 = table.sum() / table.shape[0]\n",
    "p0"
   ]
  },
  {
   "cell_type": "markdown",
   "id": "b4ccd0d0",
   "metadata": {},
   "source": [
    "## Получение среднеквадратичного отклонения"
   ]
  },
  {
   "cell_type": "code",
   "execution_count": 10,
   "id": "21c5d8e6",
   "metadata": {},
   "outputs": [],
   "source": [
    "sr = ((table - p0) ** 2).sum() / (table.shape[0] - 1)\n",
    "sr = sr ** (1 / 2)"
   ]
  },
  {
   "cell_type": "markdown",
   "id": "7ad61f58",
   "metadata": {},
   "source": [
    "## Значение планируемого показателя на 13-ый месяц"
   ]
  },
  {
   "cell_type": "code",
   "execution_count": 11,
   "id": "c8081073",
   "metadata": {},
   "outputs": [
    {
     "data": {
      "text/plain": [
       "Песок         65.753872\n",
       "Цемент       121.578611\n",
       "Щебенка       74.231374\n",
       "Земля         42.359353\n",
       "Вода          93.491863\n",
       "Гравий        91.255555\n",
       "Кирпичи       30.882569\n",
       "Газоблоки    120.937035\n",
       "Доски         89.848868\n",
       "Сваи          73.359246\n",
       "dtype: float64"
      ]
     },
     "execution_count": 11,
     "metadata": {},
     "output_type": "execute_result"
    }
   ],
   "source": [
    "table2 = p0 + numpy.random.normal(0, sr, len(p0))\n",
    "columns = table2.index\n",
    "pandas.concat([table, pandas.DataFrame([table2], columns=columns)]).reset_index(drop=True)\n",
    "table2"
   ]
  },
  {
   "cell_type": "markdown",
   "id": "ec0b18b1",
   "metadata": {},
   "source": [
    "## Оценки"
   ]
  },
  {
   "cell_type": "code",
   "execution_count": 12,
   "id": "c78418c9",
   "metadata": {},
   "outputs": [
    {
     "data": {
      "text/plain": [
       "Песок        0.053797\n",
       "Цемент       0.131384\n",
       "Щебенка      0.075674\n",
       "Земля        0.049780\n",
       "Вода         0.116477\n",
       "Гравий       0.107105\n",
       "Кирпичи      0.090368\n",
       "Газоблоки    0.230648\n",
       "Доски        0.225880\n",
       "Сваи         0.157859\n",
       "dtype: float64"
      ]
     },
     "execution_count": 12,
     "metadata": {},
     "output_type": "execute_result"
    }
   ],
   "source": [
    "reliability = sr / p0\n",
    "reliability"
   ]
  },
  {
   "cell_type": "markdown",
   "id": "c06c0619",
   "metadata": {},
   "source": [
    "### Уловие 1"
   ]
  },
  {
   "cell_type": "code",
   "execution_count": 13,
   "id": "12aa0c37",
   "metadata": {},
   "outputs": [
    {
     "data": {
      "text/plain": [
       "Песок        False\n",
       "Цемент        True\n",
       "Щебенка       True\n",
       "Земля        False\n",
       "Вода          True\n",
       "Гравий       False\n",
       "Кирпичи       True\n",
       "Газоблоки     True\n",
       "Доски         True\n",
       "Сваи          True\n",
       "dtype: bool"
      ]
     },
     "execution_count": 13,
     "metadata": {},
     "output_type": "execute_result"
    }
   ],
   "source": [
    "cond1 = ((table - p0) < 2 * sr).all()\n",
    "cond1"
   ]
  },
  {
   "cell_type": "markdown",
   "id": "2fae833b",
   "metadata": {},
   "source": [
    "### Условие 2"
   ]
  },
  {
   "cell_type": "code",
   "execution_count": 14,
   "id": "1dbdcb38",
   "metadata": {},
   "outputs": [
    {
     "data": {
      "text/plain": [
       "Песок        True\n",
       "Цемент       True\n",
       "Щебенка      True\n",
       "Земля        True\n",
       "Вода         True\n",
       "Гравий       True\n",
       "Кирпичи      True\n",
       "Газоблоки    True\n",
       "Доски        True\n",
       "Сваи         True\n",
       "dtype: bool"
      ]
     },
     "execution_count": 14,
     "metadata": {},
     "output_type": "execute_result"
    }
   ],
   "source": [
    "cond2 = p0 > 2 * sr\n",
    "cond2"
   ]
  },
  {
   "cell_type": "markdown",
   "id": "c656ab05",
   "metadata": {},
   "source": [
    "### Условие 3"
   ]
  },
  {
   "cell_type": "code",
   "execution_count": 15,
   "id": "f82cc21c",
   "metadata": {
    "scrolled": true
   },
   "outputs": [
    {
     "data": {
      "text/plain": [
       "Песок        True\n",
       "Цемент       True\n",
       "Щебенка      True\n",
       "Земля        True\n",
       "Вода         True\n",
       "Гравий       True\n",
       "Кирпичи      True\n",
       "Газоблоки    True\n",
       "Доски        True\n",
       "Сваи         True\n",
       "dtype: bool"
      ]
     },
     "execution_count": 15,
     "metadata": {},
     "output_type": "execute_result"
    }
   ],
   "source": [
    "cond3 = (table > 0).all()\n",
    "cond3"
   ]
  },
  {
   "cell_type": "markdown",
   "id": "22489c58",
   "metadata": {},
   "source": [
    "### Цветовая классификация"
   ]
  },
  {
   "cell_type": "code",
   "execution_count": 16,
   "id": "10d9b9ec",
   "metadata": {},
   "outputs": [
    {
     "data": {
      "text/html": [
       "<style type=\"text/css\">\n",
       "#T_9593d_row0_col0, #T_9593d_row3_col0, #T_9593d_row5_col0 {\n",
       "  background-color: yellow;\n",
       "}\n",
       "#T_9593d_row0_col1, #T_9593d_row1_col1, #T_9593d_row2_col1, #T_9593d_row3_col1, #T_9593d_row4_col1, #T_9593d_row5_col1, #T_9593d_row6_col1, #T_9593d_row7_col1, #T_9593d_row8_col1, #T_9593d_row9_col1 {\n",
       "  background-color: None;\n",
       "}\n",
       "#T_9593d_row1_col0, #T_9593d_row2_col0, #T_9593d_row4_col0, #T_9593d_row6_col0, #T_9593d_row7_col0, #T_9593d_row8_col0, #T_9593d_row9_col0 {\n",
       "  background-color: green;\n",
       "}\n",
       "</style>\n",
       "<table id=\"T_9593d\">\n",
       "  <thead>\n",
       "    <tr>\n",
       "      <th class=\"blank level0\" >&nbsp;</th>\n",
       "      <th id=\"T_9593d_level0_col0\" class=\"col_heading level0 col0\" >keyword</th>\n",
       "      <th id=\"T_9593d_level0_col1\" class=\"col_heading level0 col1\" >color</th>\n",
       "    </tr>\n",
       "  </thead>\n",
       "  <tbody>\n",
       "    <tr>\n",
       "      <th id=\"T_9593d_level0_row0\" class=\"row_heading level0 row0\" >0</th>\n",
       "      <td id=\"T_9593d_row0_col0\" class=\"data row0 col0\" >Песок</td>\n",
       "      <td id=\"T_9593d_row0_col1\" class=\"data row0 col1\" >yellow</td>\n",
       "    </tr>\n",
       "    <tr>\n",
       "      <th id=\"T_9593d_level0_row1\" class=\"row_heading level0 row1\" >1</th>\n",
       "      <td id=\"T_9593d_row1_col0\" class=\"data row1 col0\" >Цемент</td>\n",
       "      <td id=\"T_9593d_row1_col1\" class=\"data row1 col1\" >green</td>\n",
       "    </tr>\n",
       "    <tr>\n",
       "      <th id=\"T_9593d_level0_row2\" class=\"row_heading level0 row2\" >2</th>\n",
       "      <td id=\"T_9593d_row2_col0\" class=\"data row2 col0\" >Щебенка</td>\n",
       "      <td id=\"T_9593d_row2_col1\" class=\"data row2 col1\" >green</td>\n",
       "    </tr>\n",
       "    <tr>\n",
       "      <th id=\"T_9593d_level0_row3\" class=\"row_heading level0 row3\" >3</th>\n",
       "      <td id=\"T_9593d_row3_col0\" class=\"data row3 col0\" >Земля</td>\n",
       "      <td id=\"T_9593d_row3_col1\" class=\"data row3 col1\" >yellow</td>\n",
       "    </tr>\n",
       "    <tr>\n",
       "      <th id=\"T_9593d_level0_row4\" class=\"row_heading level0 row4\" >4</th>\n",
       "      <td id=\"T_9593d_row4_col0\" class=\"data row4 col0\" >Вода</td>\n",
       "      <td id=\"T_9593d_row4_col1\" class=\"data row4 col1\" >green</td>\n",
       "    </tr>\n",
       "    <tr>\n",
       "      <th id=\"T_9593d_level0_row5\" class=\"row_heading level0 row5\" >5</th>\n",
       "      <td id=\"T_9593d_row5_col0\" class=\"data row5 col0\" >Гравий</td>\n",
       "      <td id=\"T_9593d_row5_col1\" class=\"data row5 col1\" >yellow</td>\n",
       "    </tr>\n",
       "    <tr>\n",
       "      <th id=\"T_9593d_level0_row6\" class=\"row_heading level0 row6\" >6</th>\n",
       "      <td id=\"T_9593d_row6_col0\" class=\"data row6 col0\" >Кирпичи</td>\n",
       "      <td id=\"T_9593d_row6_col1\" class=\"data row6 col1\" >green</td>\n",
       "    </tr>\n",
       "    <tr>\n",
       "      <th id=\"T_9593d_level0_row7\" class=\"row_heading level0 row7\" >7</th>\n",
       "      <td id=\"T_9593d_row7_col0\" class=\"data row7 col0\" >Газоблоки</td>\n",
       "      <td id=\"T_9593d_row7_col1\" class=\"data row7 col1\" >green</td>\n",
       "    </tr>\n",
       "    <tr>\n",
       "      <th id=\"T_9593d_level0_row8\" class=\"row_heading level0 row8\" >8</th>\n",
       "      <td id=\"T_9593d_row8_col0\" class=\"data row8 col0\" >Доски</td>\n",
       "      <td id=\"T_9593d_row8_col1\" class=\"data row8 col1\" >green</td>\n",
       "    </tr>\n",
       "    <tr>\n",
       "      <th id=\"T_9593d_level0_row9\" class=\"row_heading level0 row9\" >9</th>\n",
       "      <td id=\"T_9593d_row9_col0\" class=\"data row9 col0\" >Сваи</td>\n",
       "      <td id=\"T_9593d_row9_col1\" class=\"data row9 col1\" >green</td>\n",
       "    </tr>\n",
       "  </tbody>\n",
       "</table>\n"
      ],
      "text/plain": [
       "<pandas.io.formats.style.Styler at 0x166eb4a43d0>"
      ]
     },
     "execution_count": 16,
     "metadata": {},
     "output_type": "execute_result"
    }
   ],
   "source": [
    "colClas = pandas.DataFrame({'keyword':table.columns, \n",
    "                         'color': 'green'})\n",
    "i = 0\n",
    "table.columns\n",
    "for name in table.columns:\n",
    "    if (not cond3[name]):\n",
    "        colClas.color[i] = 'red'\n",
    "    elif (not cond1[name] and not cond2[name]):\n",
    "        colClas.color[i] = 'orange'\n",
    "    elif (not cond1[name] or not cond2[name]):\n",
    "        colClas.color[i] = 'yellow'\n",
    "    i += 1\n",
    "    \n",
    "new_dict = pandas.Series(colClas.color.values,index=colClas.keyword).to_dict()\n",
    "colClas.style.applymap(lambda v: f\"background-color: {new_dict.get(v, 'None')}\")\n"
   ]
  },
  {
   "cell_type": "code",
   "execution_count": null,
   "id": "e5513504",
   "metadata": {},
   "outputs": [],
   "source": []
  }
 ],
 "metadata": {
  "kernelspec": {
   "display_name": "Python 3 (ipykernel)",
   "language": "python",
   "name": "python3"
  },
  "language_info": {
   "codemirror_mode": {
    "name": "ipython",
    "version": 3
   },
   "file_extension": ".py",
   "mimetype": "text/x-python",
   "name": "python",
   "nbconvert_exporter": "python",
   "pygments_lexer": "ipython3",
   "version": "3.9.13"
  }
 },
 "nbformat": 4,
 "nbformat_minor": 5
}
