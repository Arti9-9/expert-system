{
 "cells": [
  {
   "cell_type": "code",
   "execution_count": 8,
   "id": "5c80b244",
   "metadata": {},
   "outputs": [
    {
     "name": "stdout",
     "output_type": "stream",
     "text": [
      "Requirement already satisfied: SpeechRecognition in c:\\users\\79046\\anaconda3\\lib\\site-packages (3.9.0)\n",
      "Requirement already satisfied: requests>=2.26.0 in c:\\users\\79046\\anaconda3\\lib\\site-packages (from SpeechRecognition) (2.28.1)\n",
      "Requirement already satisfied: charset-normalizer<3,>=2 in c:\\users\\79046\\anaconda3\\lib\\site-packages (from requests>=2.26.0->SpeechRecognition) (2.0.4)\n",
      "Requirement already satisfied: idna<4,>=2.5 in c:\\users\\79046\\anaconda3\\lib\\site-packages (from requests>=2.26.0->SpeechRecognition) (3.3)\n",
      "Requirement already satisfied: urllib3<1.27,>=1.21.1 in c:\\users\\79046\\anaconda3\\lib\\site-packages (from requests>=2.26.0->SpeechRecognition) (1.26.11)\n",
      "Requirement already satisfied: certifi>=2017.4.17 in c:\\users\\79046\\anaconda3\\lib\\site-packages (from requests>=2.26.0->SpeechRecognition) (2022.9.14)\n",
      "Note: you may need to restart the kernel to use updated packages.\n"
     ]
    }
   ],
   "source": [
    "pip install SpeechRecognition"
   ]
  },
  {
   "cell_type": "markdown",
   "id": "15319ff5",
   "metadata": {},
   "source": [
    "## Теперь подключим библиотеку"
   ]
  },
  {
   "cell_type": "code",
   "execution_count": 9,
   "id": "f1e153d8",
   "metadata": {},
   "outputs": [],
   "source": [
    "import speech_recognition as sr"
   ]
  },
  {
   "cell_type": "markdown",
   "id": "fefd5813",
   "metadata": {},
   "source": [
    "##  Присвоим распознающее устройство переменной, с помощью которой будет происходить процесс распознавания:"
   ]
  },
  {
   "cell_type": "code",
   "execution_count": 10,
   "id": "ca766689",
   "metadata": {},
   "outputs": [],
   "source": [
    "r = sr.Recognizer()"
   ]
  },
  {
   "cell_type": "markdown",
   "id": "a5bc55d9",
   "metadata": {},
   "source": [
    "## Присвоим созданному нами аудиофайлу значение переменной файлового типа"
   ]
  },
  {
   "cell_type": "code",
   "execution_count": 11,
   "id": "c04e9570",
   "metadata": {},
   "outputs": [],
   "source": [
    "file = sr.AudioFile('Sound.wav')"
   ]
  },
  {
   "cell_type": "markdown",
   "id": "bfa303e3",
   "metadata": {},
   "source": [
    "## Преобразование звука в текст"
   ]
  },
  {
   "cell_type": "code",
   "execution_count": 12,
   "id": "9bf45a10",
   "metadata": {},
   "outputs": [
    {
     "name": "stdout",
     "output_type": "stream",
     "text": [
      "result2:\n",
      "{   'alternative': [   {   'confidence': 0.95275849,\n",
      "                           'transcript': 'говорит и показывает Москва работают '\n",
      "                                         'все центральные каналы телевидения '\n",
      "                                         'смотрите И слушайте Москву'},\n",
      "                       {   'transcript': 'говорит и показывает Москва работают '\n",
      "                                         'все центральные каналы телевидение '\n",
      "                                         'смотрите И слушайте Москву'},\n",
      "                       {   'transcript': 'говорит и показывает Москва работают '\n",
      "                                         'все центральные каналы телевидения '\n",
      "                                         'смотрите И слушайте в Москву'},\n",
      "                       {   'transcript': 'говорит и показывает Москва работают '\n",
      "                                         'все центральные каналы телевидения '\n",
      "                                         'смотрите И слушайте Москва'},\n",
      "                       {   'transcript': 'говорит и показывает Москва работают '\n",
      "                                         'все центральные каналы телевидения '\n",
      "                                         'смотрите И слушайте Москвы'}],\n",
      "    'final': True}\n",
      "говорит и показывает Москва работают все центральные каналы телевидения смотрите И слушайте Москву\n"
     ]
    }
   ],
   "source": [
    "with file as source:\n",
    " r.adjust_for_ambient_noise(source)\n",
    " audio = r.record(source)\n",
    " result = r.recognize_google(audio,language='ru')\n",
    "print(result)"
   ]
  },
  {
   "cell_type": "markdown",
   "id": "66550ea6",
   "metadata": {},
   "source": [
    "## 2)Приложение для мгновенного преобразования речи с микрофона в текст"
   ]
  },
  {
   "cell_type": "markdown",
   "id": "5fa2ae64",
   "metadata": {},
   "source": [
    "## Установим модули"
   ]
  },
  {
   "cell_type": "code",
   "execution_count": 14,
   "id": "7ab26410",
   "metadata": {},
   "outputs": [
    {
     "name": "stdout",
     "output_type": "stream",
     "text": [
      "Collecting pyaudio\n",
      "  Downloading PyAudio-0.2.12-cp39-cp39-win_amd64.whl (163 kB)\n",
      "     ------------------------------------ 164.0/164.0 kB 979.2 kB/s eta 0:00:00\n",
      "Installing collected packages: pyaudio\n",
      "Successfully installed pyaudio-0.2.12\n",
      "Note: you may need to restart the kernel to use updated packages.\n"
     ]
    }
   ],
   "source": [
    "pip install pyaudio"
   ]
  },
  {
   "cell_type": "markdown",
   "id": "d3d9bd2e",
   "metadata": {},
   "source": [
    "## Подключим библиотеку и назначим метод для определения данных:"
   ]
  },
  {
   "cell_type": "code",
   "execution_count": 15,
   "id": "ca2e5e8f",
   "metadata": {},
   "outputs": [],
   "source": [
    "import speech_recognition as sr\n",
    "r = sr.Recognizer()"
   ]
  },
  {
   "cell_type": "code",
   "execution_count": 24,
   "id": "92ce70f2",
   "metadata": {},
   "outputs": [
    {
     "name": "stdout",
     "output_type": "stream",
     "text": [
      "Sesinizi Tanımlıyor…\n",
      "result2:\n",
      "{   'alternative': [   {'confidence': 0.92020309, 'transcript': 'intromisión'},\n",
      "                       {'transcript': 'centro mesa'},\n",
      "                       {'transcript': 'compromiso'},\n",
      "                       {'transcript': 'intromission'},\n",
      "                       {'transcript': 'intromissió'}],\n",
      "    'final': True}\n",
      "intromisión\n"
     ]
    }
   ],
   "source": [
    "with sr.Microphone() as source:\n",
    " r.adjust_for_ambient_noise(source)\n",
    " data = r.record(source, duration=10)\n",
    " print('Sesinizi Tanımlıyor…')\n",
    " text = r.recognize_google(data,language='ru')\n",
    " print(text)"
   ]
  },
  {
   "cell_type": "markdown",
   "id": "a49d3f4e",
   "metadata": {},
   "source": [
    "## 3)Голосовой помошник"
   ]
  },
  {
   "cell_type": "code",
   "execution_count": null,
   "id": "18dc741c",
   "metadata": {},
   "outputs": [],
   "source": []
  },
  {
   "cell_type": "code",
   "execution_count": 27,
   "id": "1e9fb70d",
   "metadata": {},
   "outputs": [
    {
     "ename": "SyntaxError",
     "evalue": "invalid syntax (893529907.py, line 17)",
     "output_type": "error",
     "traceback": [
      "\u001b[1;36m  File \u001b[1;32m\"C:\\Users\\79046\\AppData\\Local\\Temp\\ipykernel_9004\\893529907.py\"\u001b[1;36m, line \u001b[1;32m17\u001b[0m\n\u001b[1;33m    def take_command():\u001b[0m\n\u001b[1;37m    ^\u001b[0m\n\u001b[1;31mSyntaxError\u001b[0m\u001b[1;31m:\u001b[0m invalid syntax\n"
     ]
    }
   ],
   "source": [
    "import speech_recognition as sr\n",
    "import pyttsx3\n",
    "import pywhatkit\n",
    "import datetime\n",
    "import wikipedia\n",
    "import pyjokes\n",
    "\n",
    "listener = sr.Recognizer()\n",
    "engine = pyttsx3.init()\n",
    "voices = engine.getProperty('voices')\n",
    "engine.setProperty('voice', voices[1].id)\n",
    "\n",
    "def talk(text):\n",
    "    engine.say(text)\n",
    "    engine.runAndWait(\n",
    "\n",
    "def take_command():\n",
    "    try:\n",
    "        with sr.Microphone() as source:\n",
    "            print('listening...')\n",
    "            voice = listener.listen(source)\n",
    "            command = listener.recognize_google(voice)\n",
    "            print(command)\n",
    "    except:\n",
    "        pass\n",
    "    return command\n",
    "\n",
    "def run_alexa():\n",
    "    command = take_command()\n",
    "    print(command)\n",
    "    if 'play' in command:\n",
    "        song = command.replace('play', '')\n",
    "        talk('playing ' + song)\n",
    "        pywhatkit.playonyt(song)\n",
    "    elif 'time' in command:\n",
    "        time = datetime.datetime.now().strftime('%I:%M %p')\n",
    "        talk('Current time is ' + time)\n",
    "    elif 'who the heck is' in command:\n",
    "        person = command.replace('who the heck is', '')\n",
    "        info = wikipedia.summary(person, 1)\n",
    "        print(info)\n",
    "        talk(info)\n",
    "    elif 'date' in command:\n",
    "        talk('sorry, I have a headache')\n",
    "    elif 'are you single' in command:\n",
    "        talk('I am in a relationship with wifi')\n",
    "    elif 'joke' in command:\n",
    "        talk(pyjokes.get_joke())\n",
    "    else:\n",
    "        talk('please say the command again')\n",
    "\n",
    "while True:\n",
    "    run_alexa()"
   ]
  },
  {
   "cell_type": "code",
   "execution_count": null,
   "id": "21ae21fa",
   "metadata": {},
   "outputs": [],
   "source": []
  }
 ],
 "metadata": {
  "kernelspec": {
   "display_name": "Python 3 (ipykernel)",
   "language": "python",
   "name": "python3"
  },
  "language_info": {
   "codemirror_mode": {
    "name": "ipython",
    "version": 3
   },
   "file_extension": ".py",
   "mimetype": "text/x-python",
   "name": "python",
   "nbconvert_exporter": "python",
   "pygments_lexer": "ipython3",
   "version": "3.9.13"
  }
 },
 "nbformat": 4,
 "nbformat_minor": 5
}
